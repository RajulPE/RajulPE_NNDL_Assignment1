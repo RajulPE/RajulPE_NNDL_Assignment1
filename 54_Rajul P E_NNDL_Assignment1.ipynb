{
  "nbformat": 4,
  "nbformat_minor": 0,
  "metadata": {
    "colab": {
      "name": "Honors MNIST_TVE19CS054.ipynb",
      "provenance": [],
      "collapsed_sections": []
    },
    "kernelspec": {
      "name": "python3",
      "display_name": "Python 3"
    },
    "language_info": {
      "name": "python"
    }
  },
  "cells": [
    {
      "cell_type": "markdown",
      "source": [
        "CST 395 -CSE Neural Networks and Deep Learning Assignment 1<br>\n",
        "Submiited by: Rajul P E<br>\n",
        "              S5 CSE<br>\n",
        "              Roll no: 52 <br>\n",
        "              TVE19CS054<br>\n"
      ],
      "metadata": {
        "id": "XTWIcUi7yhsn"
      }
    },
    {
      "cell_type": "markdown",
      "source": [
        "Import Libraries\n",
        "\n",
        "First, we need to prepare our work environment and import the necessary libraries. Here we use the end-to-end open source Machine Learning framework, maintained by Google, which is Tensorflow."
      ],
      "metadata": {
        "id": "lovMZ6br836o"
      }
    },
    {
      "cell_type": "code",
      "source": [
        "from matplotlib import pyplot as plt\n",
        "from tensorflow.keras.datasets import mnist\n",
        "from tensorflow.keras.utils import to_categorical\n",
        "from tensorflow.keras.models import Sequential\n",
        "from tensorflow.keras.layers import Dense, Flatten\n",
        "from tensorflow.keras.optimizers import Adam"
      ],
      "metadata": {
        "id": "6-JWT36-py4B"
      },
      "execution_count": 64,
      "outputs": []
    },
    {
      "cell_type": "markdown",
      "source": [
        "Load MNIST Handwritten Digit Dataset\n",
        "\n",
        "The required dataset is avaliable within the Tensorflow datasets. \n"
      ],
      "metadata": {
        "id": "L7eBztqw87Bg"
      }
    },
    {
      "cell_type": "code",
      "execution_count": 19,
      "metadata": {
        "colab": {
          "base_uri": "https://localhost:8080/"
        },
        "id": "IqK-WXcGnYfh",
        "outputId": "8fe76c4b-cec7-40ea-9c71-f2baba125062"
      },
      "outputs": [
        {
          "output_type": "stream",
          "name": "stdout",
          "text": [
            "Number of Training samples: 60000\n",
            "Number of Tesing samples: 10000\n"
          ]
        }
      ],
      "source": [
        "# Load the dataset\n",
        "(trainX, trainy), (testX, testy) = mnist.load_data()\n",
        "# summarize loaded dataset\n",
        "print('Number of Training samples: ' + str(trainX.shape[0]))\n",
        "print('Number of Tesing samples: ' + str(testX.shape[0]))"
      ]
    },
    {
      "cell_type": "markdown",
      "source": [
        "Display Dataset"
      ],
      "metadata": {
        "id": "RL5eY-AF9AeP"
      }
    },
    {
      "cell_type": "code",
      "source": [
        "# plot first few images\n",
        "for i in range(6):\n",
        "\t# define subplot\n",
        "\tplt.subplot(330 + 1 + i)\n",
        "\t# plot raw pixel data\n",
        "\tplt.imshow(trainX[i], cmap=plt.get_cmap('gray'))\n",
        "# show the figure\n",
        "plt.show()"
      ],
      "metadata": {
        "colab": {
          "base_uri": "https://localhost:8080/",
          "height": 191
        },
        "id": "RYFvIbbnn5SX",
        "outputId": "035cda36-69e7-4ec3-b540-857cb17d5b42"
      },
      "execution_count": 20,
      "outputs": [
        {
          "output_type": "display_data",
          "data": {
            "image/png": "[encoded data removed]",
            "text/plain": [
              "<Figure size 432x288 with 6 Axes>"
            ]
          },
          "metadata": {
            "needs_background": "light"
          }
        }
      ]
    },
    {
      "cell_type": "markdown",
      "source": [
        "### Reshape Dataset\n",
        "\n",
        "we can load the images and reshape the data arrays to have a single color channel."
      ],
      "metadata": {
        "id": "EypF5EzX9GsU"
      }
    },
    {
      "cell_type": "code",
      "source": [
        "(trainX, trainY), (testX, testY) = mnist.load_data()\n",
        "\n",
        "# reshape dataset to have a single channel\n",
        "trainX = trainX.reshape((trainX.shape[0], 28, 28, 1))\n",
        "testX = testX.reshape((testX.shape[0], 28, 28, 1))"
      ],
      "metadata": {
        "id": "OWbZWjpJoFDC"
      },
      "execution_count": 21,
      "outputs": []
    },
    {
      "cell_type": "markdown",
      "source": [
        "There are ten output classes for this task(i.e from 1 to 10). Oe-hot encode the output target class variables "
      ],
      "metadata": {
        "id": "QhN4gb4X-Hgn"
      }
    },
    {
      "cell_type": "code",
      "source": [
        "# one hot encode target values\n",
        "trainY = to_categorical(trainY)\n",
        "testY = to_categorical(testY)"
      ],
      "metadata": {
        "id": "gCdkhuFNn5-h"
      },
      "execution_count": 22,
      "outputs": []
    },
    {
      "cell_type": "code",
      "source": [
        "# convert from integers to floats\n",
        "train_norm = trainX.astype('float32')\n",
        "test_norm = testX.astype('float32')\n",
        "# Perform normalization\n",
        "trainX = train_norm / 255.0\n",
        "testX = test_norm / 255.0"
      ],
      "metadata": {
        "id": "Vrai0sxdoilV"
      },
      "execution_count": 23,
      "outputs": []
    },
    {
      "cell_type": "markdown",
      "source": [
        "Define the First Model Architecture"
      ],
      "metadata": {
        "id": "5EcaKCi_9OdG"
      }
    },
    {
      "cell_type": "code",
      "source": [
        "def model_1():\n",
        "\tmodel = Sequential()\n",
        "\tmodel.add(Flatten(input_shape=(28, 28)))\n",
        "\tmodel.add(Dense(64, activation='relu'))\n",
        "\tmodel.add(Dense(10, activation='softmax'))\n",
        "\topt = Adam(learning_rate=0.01) # Define an optimizer function\n",
        " \t# Compile model\n",
        "\tmodel.compile(optimizer=opt, loss='categorical_crossentropy', metrics=['accuracy'])\n",
        "\treturn model"
      ],
      "metadata": {
        "id": "_tkx01UbouGr"
      },
      "execution_count": 29,
      "outputs": []
    },
    {
      "cell_type": "markdown",
      "source": [
        "Define a function to train the model\n"
      ],
      "metadata": {
        "id": "Ddw5O4uCG1_1"
      }
    },
    {
      "cell_type": "code",
      "source": [
        "# evaluate a model using k-fold cross-validation\n",
        "def evaluate_model(modelX):\n",
        "    scores = list()\n",
        "    # define model\n",
        "    model = modelX()\n",
        "    print(model.summary())\n",
        "    # fit model\n",
        "    history = model.fit(trainX, trainY, epochs=10, batch_size=32, validation_data=(testX, testY), verbose=1)\n",
        "    # evaluate model\n",
        "    _, acc = model.evaluate(testX, testY, verbose=1)\n",
        "    print('Validation Accuarcy %.3f' % (acc * 100.0))\n",
        "    # stores scores\n",
        "    scores.append(acc)\n",
        "    return scores, history"
      ],
      "metadata": {
        "id": "cxa4ol6AqMW-"
      },
      "execution_count": 37,
      "outputs": []
    },
    {
      "cell_type": "markdown",
      "source": [
        "### Define a function to plot the Accuracy VS Epoch graphs"
      ],
      "metadata": {
        "id": "ZWhxS-QKOSUE"
      }
    },
    {
      "cell_type": "code",
      "source": [
        "# summarize history for accuracy\n",
        "def plot(history):\n",
        "  plt.plot(history.history['accuracy'])\n",
        "  plt.plot(history.history['val_accuracy'])\n",
        "  plt.title('model accuracy')\n",
        "  plt.ylabel('accuracy')\n",
        "  plt.xlabel('epoch')\n",
        "  plt.legend(['train', 'test'], loc='upper left')\n",
        "  plt.show()"
      ],
      "metadata": {
        "id": "EyhF1oOXORjq"
      },
      "execution_count": 46,
      "outputs": []
    },
    {
      "cell_type": "markdown",
      "source": [
        "Load and train the first model."
      ],
      "metadata": {
        "id": "QtX3-Nup9i_M"
      }
    },
    {
      "cell_type": "code",
      "source": [
        "scores, history = evaluate_model(model_1)"
      ],
      "metadata": {
        "colab": {
          "base_uri": "https://localhost:8080/"
        },
        "id": "0B8Ympxsqz-l",
        "outputId": "715b4c90-b3b8-4e4b-da55-672b29364b82"
      },
      "execution_count": 42,
      "outputs": [
        {
          "output_type": "stream",
          "name": "stdout",
          "text": [
            "Model: \"sequential_4\"\n",
            "_________________________________________________________________\n",
            " Layer (type)                Output Shape              Param #   \n",
            "=================================================================\n",
            " flatten_4 (Flatten)         (None, 784)               0         \n",
            "                                                                 \n",
            " dense_12 (Dense)            (None, 64)                50240     \n",
            "                                                                 \n",
            " dense_13 (Dense)            (None, 10)                650       \n",
            "                                                                 \n",
            "=================================================================\n",
            "Total params: 50,890\n",
            "Trainable params: 50,890\n",
            "Non-trainable params: 0\n",
            "_________________________________________________________________\n",
            "None\n",
            "Epoch 1/10\n",
            "1875/1875 [==============================] - 5s 3ms/step - loss: 0.2537 - accuracy: 0.9248 - val_loss: 0.1763 - val_accuracy: 0.9478\n",
            "Epoch 2/10\n",
            "1875/1875 [==============================] - 4s 2ms/step - loss: 0.1660 - accuracy: 0.9530 - val_loss: 0.1791 - val_accuracy: 0.9538\n",
            "Epoch 3/10\n",
            "1875/1875 [==============================] - 5s 2ms/step - loss: 0.1450 - accuracy: 0.9599 - val_loss: 0.2031 - val_accuracy: 0.9540\n",
            "Epoch 4/10\n",
            "1875/1875 [==============================] - 5s 3ms/step - loss: 0.1362 - accuracy: 0.9629 - val_loss: 0.1800 - val_accuracy: 0.9576\n",
            "Epoch 5/10\n",
            "1875/1875 [==============================] - 5s 2ms/step - loss: 0.1263 - accuracy: 0.9645 - val_loss: 0.1790 - val_accuracy: 0.9592\n",
            "Epoch 6/10\n",
            "1875/1875 [==============================] - 4s 2ms/step - loss: 0.1190 - accuracy: 0.9685 - val_loss: 0.1860 - val_accuracy: 0.9577\n",
            "Epoch 7/10\n",
            "1875/1875 [==============================] - 5s 3ms/step - loss: 0.1116 - accuracy: 0.9702 - val_loss: 0.1985 - val_accuracy: 0.9629\n",
            "Epoch 8/10\n",
            "1875/1875 [==============================] - 5s 2ms/step - loss: 0.1079 - accuracy: 0.9717 - val_loss: 0.2097 - val_accuracy: 0.9603\n",
            "Epoch 9/10\n",
            "1875/1875 [==============================] - 5s 2ms/step - loss: 0.1075 - accuracy: 0.9728 - val_loss: 0.2215 - val_accuracy: 0.9580\n",
            "Epoch 10/10\n",
            "1875/1875 [==============================] - 4s 2ms/step - loss: 0.1018 - accuracy: 0.9738 - val_loss: 0.2233 - val_accuracy: 0.9637\n",
            "313/313 [==============================] - 0s 2ms/step - loss: 0.2233 - accuracy: 0.9637\n",
            "Validation Accuarcy 96.370\n"
          ]
        }
      ]
    },
    {
      "cell_type": "markdown",
      "source": [
        "#### Plot Accuracy vs Epoch chart for Model 1"
      ],
      "metadata": {
        "id": "hS6dQlR_NxBm"
      }
    },
    {
      "cell_type": "code",
      "source": [
        "plot(history[0])"
      ],
      "metadata": {
        "id": "mS8t7ZwxOGsy",
        "outputId": "ca11f01f-34dd-453d-afd3-389a641a1897",
        "colab": {
          "base_uri": "https://localhost:8080/",
          "height": 295
        }
      },
      "execution_count": 47,
      "outputs": [
        {
          "output_type": "display_data",
          "data": {
            "image/png": "[encoded data removed]",
            "text/plain": [
              "<Figure size 432x288 with 1 Axes>"
            ]
          },
          "metadata": {
            "needs_background": "light"
          }
        }
      ]
    },
    {
      "cell_type": "markdown",
      "source": [
        "Define the Second Model Architecture"
      ],
      "metadata": {
        "id": "YNSLXk-u9tMx"
      }
    },
    {
      "cell_type": "code",
      "source": [
        "def model_2():\n",
        "    model = Sequential()\n",
        "    model.add(Flatten(input_shape=(28, 28)))\n",
        "    model.add(Dense(1024, activation='relu'))\n",
        "    model.add(Dense(512, activation='relu'))\n",
        "    model.add(Dense(256, activation='relu'))\n",
        "    model.add(Dense(128, activation='relu'))\n",
        "    model.add(Dense(10, activation='softmax'))\n",
        "    # Define an optimizer (here Adam)\n",
        "    opt = Adam(learning_rate=0.01)\n",
        "    # Compile model\n",
        "    model.compile(optimizer=opt, loss='categorical_crossentropy', metrics=['accuracy'])\n",
        "    return model"
      ],
      "metadata": {
        "id": "x6w_XnhNrRzK"
      },
      "execution_count": 61,
      "outputs": []
    },
    {
      "cell_type": "markdown",
      "source": [
        "Load and train the second model."
      ],
      "metadata": {
        "id": "3K8b_d-oJMRN"
      }
    },
    {
      "cell_type": "code",
      "source": [
        "scores, history = evaluate_model(model_2)"
      ],
      "metadata": {
        "id": "69O96UZXIs1U",
        "outputId": "f0c118ff-4269-4eef-9f0a-f1941014c969",
        "colab": {
          "base_uri": "https://localhost:8080/"
        }
      },
      "execution_count": 62,
      "outputs": [
        {
          "output_type": "stream",
          "name": "stdout",
          "text": [
            "Model: \"sequential_10\"\n",
            "_________________________________________________________________\n",
            " Layer (type)                Output Shape              Param #   \n",
            "=================================================================\n",
            " flatten_10 (Flatten)        (None, 784)               0         \n",
            "                                                                 \n",
            " dense_40 (Dense)            (None, 1024)              803840    \n",
            "                                                                 \n",
            " dense_41 (Dense)            (None, 512)               524800    \n",
            "                                                                 \n",
            " dense_42 (Dense)            (None, 256)               131328    \n",
            "                                                                 \n",
            " dense_43 (Dense)            (None, 128)               32896     \n",
            "                                                                 \n",
            " dense_44 (Dense)            (None, 10)                1290      \n",
            "                                                                 \n",
            "=================================================================\n",
            "Total params: 1,494,154\n",
            "Trainable params: 1,494,154\n",
            "Non-trainable params: 0\n",
            "_________________________________________________________________\n",
            "None\n",
            "Epoch 1/10\n",
            "1875/1875 [==============================] - 41s 21ms/step - loss: 0.4162 - accuracy: 0.8960 - val_loss: 0.2420 - val_accuracy: 0.9425\n",
            "Epoch 2/10\n",
            "1875/1875 [==============================] - 39s 21ms/step - loss: 0.2485 - accuracy: 0.9419 - val_loss: 0.2721 - val_accuracy: 0.9435\n",
            "Epoch 3/10\n",
            "1875/1875 [==============================] - 39s 21ms/step - loss: 0.1981 - accuracy: 0.9535 - val_loss: 0.2217 - val_accuracy: 0.9444\n",
            "Epoch 4/10\n",
            "1875/1875 [==============================] - 38s 20ms/step - loss: 0.2005 - accuracy: 0.9533 - val_loss: 0.2507 - val_accuracy: 0.9439\n",
            "Epoch 5/10\n",
            "1875/1875 [==============================] - 38s 21ms/step - loss: 0.2163 - accuracy: 0.9521 - val_loss: 0.2746 - val_accuracy: 0.9486\n",
            "Epoch 6/10\n",
            "1875/1875 [==============================] - 37s 20ms/step - loss: 0.1961 - accuracy: 0.9571 - val_loss: 0.2479 - val_accuracy: 0.9519\n",
            "Epoch 7/10\n",
            "1875/1875 [==============================] - 38s 21ms/step - loss: 0.2063 - accuracy: 0.9542 - val_loss: 0.2454 - val_accuracy: 0.9550\n",
            "Epoch 8/10\n",
            "1875/1875 [==============================] - 39s 21ms/step - loss: 0.2368 - accuracy: 0.9504 - val_loss: 0.2734 - val_accuracy: 0.9333\n",
            "Epoch 9/10\n",
            "1875/1875 [==============================] - 38s 20ms/step - loss: 0.2406 - accuracy: 0.9477 - val_loss: 0.2985 - val_accuracy: 0.9442\n",
            "Epoch 10/10\n",
            "1875/1875 [==============================] - 38s 20ms/step - loss: 0.2789 - accuracy: 0.9416 - val_loss: 0.2884 - val_accuracy: 0.9272\n",
            "313/313 [==============================] - 2s 7ms/step - loss: 0.2884 - accuracy: 0.9272\n",
            "Validation Accuarcy 92.720\n"
          ]
        }
      ]
    },
    {
      "cell_type": "markdown",
      "source": [
        "#### Plot Accuracy vs Epoch chart for Model 1"
      ],
      "metadata": {
        "id": "xNitLoUwOsfA"
      }
    },
    {
      "cell_type": "code",
      "source": [
        "plot(history[0])"
      ],
      "metadata": {
        "id": "1i-FZpSkOkVP",
        "outputId": "99df4438-d7ee-49be-862e-2f15b887b692",
        "colab": {
          "base_uri": "https://localhost:8080/",
          "height": 295
        }
      },
      "execution_count": 63,
      "outputs": [
        {
          "output_type": "display_data",
          "data": {
            "image/png": "[encoded data removed]",
            "text/plain": [
              "<Figure size 432x288 with 1 Axes>"
            ]
          },
          "metadata": {
            "needs_background": "light"
          }
        }
      ]
    }
  ]
}
